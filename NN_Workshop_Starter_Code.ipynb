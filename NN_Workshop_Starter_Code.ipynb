{
  "cells": [
    {
      "cell_type": "markdown",
      "metadata": {
        "id": "view-in-github",
        "colab_type": "text"
      },
      "source": [
        "<a href=\"https://colab.research.google.com/github/AbsoluteZer0527/De-clutter/blob/main/NN_Workshop_Starter_Code.ipynb\" target=\"_parent\"><img src=\"https://colab.research.google.com/assets/colab-badge.svg\" alt=\"Open In Colab\"/></a>"
      ]
    },
    {
      "cell_type": "code",
      "execution_count": null,
      "id": "c1712146",
      "metadata": {
        "id": "c1712146"
      },
      "outputs": [],
      "source": [
        "!pip install tensorflow\n",
        "!pip install matplotlib"
      ]
    },
    {
      "cell_type": "code",
      "execution_count": null,
      "id": "fd9ba2f2",
      "metadata": {
        "id": "fd9ba2f2"
      },
      "outputs": [],
      "source": [
        "import pandas as pd\n",
        "import numpy as np\n",
        "from keras.datasets import mnist\n",
        "from matplotlib import pyplot\n",
        "import numpy as np\n",
        "import matplotlib.pyplot as plt\n",
        "from matplotlib.patches import Rectangle\n",
        "#from skimage.color import rgb2gray\n",
        "#from skimage.transform import resize\n",
        "from ipywidgets import Output, Button\n",
        "from IPython.display import Image\n",
        "import random\n",
        "import warnings\n",
        "warnings.filterwarnings('ignore')"
      ]
    },
    {
      "cell_type": "markdown",
      "id": "72f543a8",
      "metadata": {
        "id": "72f543a8"
      },
      "source": [
        "***NOTE***: No worries if the cell above shows a warning\n",
        "Additionally you don't need to worry about the below cells"
      ]
    },
    {
      "cell_type": "code",
      "execution_count": null,
      "id": "c9b24d91",
      "metadata": {
        "id": "c9b24d91"
      },
      "outputs": [],
      "source": [
        "#HELPER FUNCTIONS\n",
        "\n",
        "def softmax(x):\n",
        "    if len(x.shape) == 1:\n",
        "        e_x = np.exp(x - np.max(x))\n",
        "        return e_x / np.sum(e_x)\n",
        "    else:\n",
        "        e_x = np.exp(x - np.max(x, axis=1, keepdims=True))\n",
        "        return e_x / np.sum(e_x, axis=1, keepdims=True)\n",
        "\n",
        "\n",
        "\n",
        "def relu(x):\n",
        "    return np.maximum(0, x)\n",
        "\n",
        "\n",
        "def relu_derivative(x):\n",
        "    return np.where(x > 0, 1, 0)\n",
        "\n",
        "\n",
        "\n",
        "\n",
        "def cross_entropy_loss(y_true, y_pred):\n",
        "    n_samples = y_true.shape[0]\n",
        "    logp = - np.log(y_pred[range(n_samples), y_true.argmax(axis=1)])\n",
        "    loss = np.sum(logp) / n_samples\n",
        "    return loss\n",
        "\n",
        "\n",
        "def train_neural_network(df, hidden_size=700, output_size=10, lr=0.01, epochs=300):\n",
        "    X = df.iloc[:, :-1].values\n",
        "    y = pd.get_dummies(df.iloc[:, -1]).values\n",
        "\n",
        "    input_size = X.shape[1]\n",
        "    n_samples = X.shape[0]\n",
        "\n",
        "\n",
        "    W_input_hidden = np.random.randn(input_size, hidden_size) * 0.01\n",
        "    W_hidden_output = np.random.randn(hidden_size, output_size) * 0.01\n",
        "\n",
        "\n",
        "    for epoch in range(epochs):\n",
        "\n",
        "        z1 = np.dot(X, W_input_hidden)\n",
        "        a1 = relu(z1)\n",
        "\n",
        "        z2 = np.dot(a1, W_hidden_output)\n",
        "        a2 = softmax(z2)\n",
        "\n",
        "        loss = cross_entropy_loss(y, a2)\n",
        "\n",
        "\n",
        "        dz2 = a2 - y\n",
        "        dW_hidden_output = np.dot(a1.T, dz2) / n_samples\n",
        "\n",
        "\n",
        "        da1 = np.dot(dz2, W_hidden_output.T)\n",
        "        dz1 = da1 * relu_derivative(z1)\n",
        "        dW_input_hidden = np.dot(X.T, dz1) / n_samples\n",
        "\n",
        "\n",
        "        W_input_hidden -= lr * dW_input_hidden\n",
        "        W_hidden_output -= lr * dW_hidden_output\n",
        "\n",
        "\n",
        "        if epoch % 100 == 0:\n",
        "            print(f'Epoch {epoch}, Loss: {loss}')\n",
        "\n",
        "\n",
        "    return W_input_hidden, W_hidden_output\n",
        "\n",
        "def find_optimal_weights(hidden_layer_size):\n",
        "    weights_input_hidden, weights_hidden_output = train_neural_network(train_df, hidden_size=hidden_layer_size)\n",
        "    return [weights_input_hidden, weights_hidden_output]\n"
      ]
    },
    {
      "cell_type": "markdown",
      "id": "0dbc8219",
      "metadata": {
        "id": "0dbc8219"
      },
      "source": [
        "### Lets start with a simple example"
      ]
    },
    {
      "cell_type": "markdown",
      "id": "7a3b1bff",
      "metadata": {
        "id": "7a3b1bff"
      },
      "source": [
        "Remember a perceptron takes in data and outputs a single number! Run the next cell to look at our dataset"
      ]
    },
    {
      "cell_type": "code",
      "execution_count": null,
      "id": "a3706086",
      "metadata": {
        "id": "a3706086"
      },
      "outputs": [],
      "source": [
        "labels = ['Spam', 'Spam', 'Not Spam', 'Spam', 'Not Spam', 'Not Spam']\n",
        "num_words = [75, 76, 68, 85, 66, 71]\n",
        "spelling_mistake = [12, 16, 3, 17, 5, 8]\n",
        "num_attachments = [1, 2, 3, 1, 2, 0]\n",
        "links_embedded = [2, 1, 5, 2, 0, 0]\n",
        "\n",
        "\n",
        "pre_df = {'labels':labels, 'num_words':num_words, 'num_attachments':num_attachments, 'links_embedded':links_embedded, 'spelling_mistake':spelling_mistake}\n",
        "df = pd.DataFrame(pre_df)\n",
        "df"
      ]
    },
    {
      "cell_type": "markdown",
      "id": "98674dcd",
      "metadata": {
        "id": "98674dcd"
      },
      "source": [
        "We encounter a new email with the following characteristics! (Run the cell to look at the output in array form)\n",
        "\n",
        "***NOTE:*** Must run this cell before running the next"
      ]
    },
    {
      "cell_type": "code",
      "execution_count": null,
      "id": "c8946e23",
      "metadata": {
        "id": "c8946e23"
      },
      "outputs": [],
      "source": [
        "new_email_words = 68 ### number of words in new email\n",
        "new_email_attachments = 0 ### number of attachments in new email\n",
        "new_email_links = 3 ### number of links in new email\n",
        "new_email_spelling_mistakes = 12 ### number of spelling mistakes in new email\n",
        "new_email = np.array([new_email_words, new_email_attachments, new_email_links, new_email_spelling_mistakes])\n",
        "new_email #output is in array form"
      ]
    },
    {
      "cell_type": "markdown",
      "id": "9132f41a",
      "metadata": {
        "id": "9132f41a"
      },
      "source": [
        "After searching for the best weights for classifying not spam we found them to be the specified ones. Fill in the code to enter the output for the not spam node"
      ]
    },
    {
      "cell_type": "code",
      "execution_count": null,
      "id": "6da9ee3d",
      "metadata": {
        "id": "6da9ee3d"
      },
      "outputs": [],
      "source": [
        "#Run this cell to see the diagram\n",
        "#If this cell causes an error feel free to move on or ask to see the diagram\n",
        "\n",
        "Image(filename='notspam.jpg')"
      ]
    },
    {
      "cell_type": "code",
      "execution_count": null,
      "id": "e71c4123",
      "metadata": {
        "id": "e71c4123"
      },
      "outputs": [],
      "source": [
        "w_not_spam_num_words = .12\n",
        "w_not_spam_num_attachments = .11\n",
        "w_not_spam_links_embedded = .08\n",
        "w_not_spam_spelling = .03\n",
        "W_not_spam = np.array([w_not_spam_num_words, w_not_spam_num_attachments, w_not_spam_links_embedded, w_not_spam_spelling]) #Array to use if you'd liked\n",
        "### TODO ####\n",
        "\n",
        "\n",
        "not_spam_output = ### FILL IN ####\n",
        "\n",
        "not_spam_output"
      ]
    },
    {
      "cell_type": "markdown",
      "id": "0a20f23b",
      "metadata": {
        "id": "0a20f23b"
      },
      "source": [
        "If you did your calculation correctly you should see 8.76 as your output!"
      ]
    },
    {
      "cell_type": "markdown",
      "id": "10286851",
      "metadata": {
        "id": "10286851"
      },
      "source": [
        "Now lets compute the output of the spam node using the following weights"
      ]
    },
    {
      "cell_type": "code",
      "execution_count": null,
      "id": "73e6dc70",
      "metadata": {
        "id": "73e6dc70"
      },
      "outputs": [],
      "source": [
        "#Run this cell to see the diagram\n",
        "#If this cell causes an error feel free to move on or ask to see the diagram\n",
        "\n",
        "Image(filename='spam.jpg')"
      ]
    },
    {
      "cell_type": "code",
      "execution_count": null,
      "id": "c730731e",
      "metadata": {
        "id": "c730731e"
      },
      "outputs": [],
      "source": [
        "w_spam_num_words = .15\n",
        "w_spam_num_attachments = .08\n",
        "w_spam_links_embedded = .14\n",
        "w_spam_spelling = .19\n",
        "\n",
        "W_spam = np.array([w_spam_num_words, w_spam_num_attachments, w_spam_links_embedded, w_spam_spelling]) ### Array to use if youd like\n",
        "### TODO ####\n",
        "\n",
        "spam_output = ### FILL IN ###\n",
        "spam_output"
      ]
    },
    {
      "cell_type": "markdown",
      "id": "da0a35dd",
      "metadata": {
        "id": "da0a35dd"
      },
      "source": [
        "If you did your calculations correctly you should see 12.8999 as your output!"
      ]
    },
    {
      "cell_type": "markdown",
      "id": "bda216fb",
      "metadata": {
        "id": "bda216fb"
      },
      "source": [
        "Notice how our two outputs were 8.76 and 12.8999. However we want to represent our outputs as percentages which represent the likelihood that an email is either spam or not spam.\n",
        "\n",
        "To do this we will put our output through the `softmax` function which takes in a list which contains the outputs and converts them to percentages! We already implemented the softmax() function so call it on the list of outputs to see our predictions"
      ]
    },
    {
      "cell_type": "code",
      "execution_count": null,
      "id": "6ef73055",
      "metadata": {
        "id": "6ef73055"
      },
      "outputs": [],
      "source": [
        "outputs = [not_spam_output, spam_output]\n",
        "#output[0] corresponds to not spam and output[1] corresponds to spam\n",
        "### TODO ###\n",
        "\n",
        "output_predictions = ### FILL IN ###\n",
        "output_predictions"
      ]
    },
    {
      "cell_type": "markdown",
      "id": "e361adf9",
      "metadata": {
        "id": "e361adf9"
      },
      "source": [
        "Our output shows that our confidence that the email is no spam is 1.5% and the confidence that it is spam is 98%. So we will classify it as ***spam***!"
      ]
    },
    {
      "cell_type": "markdown",
      "id": "96245c49",
      "metadata": {
        "id": "96245c49"
      },
      "source": [
        "### Now lets try something more involved"
      ]
    },
    {
      "cell_type": "markdown",
      "id": "44e7af2c",
      "metadata": {
        "id": "44e7af2c"
      },
      "source": [
        "For the rest of this assignment we will try to classify photos of numbers using a Neural Network. The following cell will import our data."
      ]
    },
    {
      "cell_type": "code",
      "execution_count": null,
      "id": "48248afb",
      "metadata": {
        "id": "48248afb"
      },
      "outputs": [],
      "source": [
        "#importing our data\n",
        "(train_X, train_y), (test_X, test_y) = mnist.load_data()\n",
        "#printing the shapes of the vectors\n",
        "print('X_train: ' + str(train_X.shape))\n",
        "print('Y_train: ' + str(train_y.shape))"
      ]
    },
    {
      "cell_type": "markdown",
      "id": "d6a19904",
      "metadata": {
        "id": "d6a19904"
      },
      "source": [
        "### Input images 🖼️\n",
        "\n",
        "Lets look at what some of our inputs look like"
      ]
    },
    {
      "cell_type": "code",
      "execution_count": null,
      "id": "f471a9b2",
      "metadata": {
        "id": "f471a9b2"
      },
      "outputs": [],
      "source": [
        "#Lets look at what our data looks like\n",
        "for i in range(9):\n",
        "    plt.subplot(330 + 1 + i)\n",
        "    plt.imshow(train_X[i], cmap=plt.get_cmap('gray'))\n",
        "    plt.show()"
      ]
    },
    {
      "cell_type": "markdown",
      "id": "dfb6145a",
      "metadata": {
        "id": "dfb6145a"
      },
      "source": [
        "As you can see our data is photos of images which are 28 x 28 pixels in size"
      ]
    },
    {
      "cell_type": "markdown",
      "id": "89c7a1fe",
      "metadata": {
        "id": "89c7a1fe"
      },
      "source": [
        "### Pixel arrays\n",
        "\n",
        "We can represent these photos by using 2D arrays, each entry in the 2D array will represent a pixel and its value (Black pixels equal 0 and white pixels equal 255)\n",
        "\n",
        "Lets look at one of these pixel arrays"
      ]
    },
    {
      "cell_type": "code",
      "execution_count": null,
      "id": "b0b0376b",
      "metadata": {
        "id": "b0b0376b"
      },
      "outputs": [],
      "source": [
        "train_X[0]"
      ]
    },
    {
      "cell_type": "markdown",
      "id": "cedffd94",
      "metadata": {
        "id": "cedffd94"
      },
      "source": [
        "When thinking about how these photos can be applied to our network we can think of each photo being a 784 (28x28) array"
      ]
    },
    {
      "cell_type": "markdown",
      "id": "1ef7b940",
      "metadata": {
        "id": "1ef7b940"
      },
      "source": [
        "Therefore we will have to do this we will flatten our 2D array."
      ]
    },
    {
      "cell_type": "code",
      "execution_count": null,
      "id": "5761678c",
      "metadata": {
        "id": "5761678c"
      },
      "outputs": [],
      "source": [
        "#Prepping the data\n",
        "train_X_flattened = train_X.reshape(train_X.shape[0], -1)\n",
        "column_names = [f'pixel_{i}' for i in range(train_X_flattened.shape[1])] + ['label']\n",
        "# Combine the image data and labels\n",
        "train_data = np.column_stack((train_X_flattened, train_y))\n",
        "#Create dataframe\n",
        "train_df = pd.DataFrame(train_data, columns=column_names)\n",
        "\n",
        "\n",
        "test_X_flattened = test_X.reshape(test_X.shape[0], -1)\n",
        "column_names = [f'pixel_{i}' for i in range(test_X_flattened.shape[1])] + ['label']\n",
        "# Combine the image data and labels\n",
        "test_data = np.column_stack((test_X_flattened, test_y))\n",
        "#Create dataframe\n",
        "test_df = pd.DataFrame(test_data, columns=column_names)"
      ]
    },
    {
      "cell_type": "markdown",
      "id": "80a76a49",
      "metadata": {
        "id": "80a76a49"
      },
      "source": [
        "### Taking a look at our Dataframe\n",
        "\n",
        "In order to find the optimal weights for our network we will use a lot of prexisting data"
      ]
    },
    {
      "cell_type": "code",
      "execution_count": null,
      "id": "74636bf7",
      "metadata": {
        "id": "74636bf7"
      },
      "outputs": [],
      "source": [
        "train_df #run this cell to see dataframe"
      ]
    },
    {
      "cell_type": "markdown",
      "id": "09ad9e3e",
      "metadata": {
        "id": "09ad9e3e"
      },
      "source": [
        "Each row in the above dataframe represent a photo of a number. Since each of the photos are made up of pixels on a 28x28 grid, we can see that the total pixels is 28x28=784 which is one less than the amount of columns in the dataframe. The last column is the label. It is the number corresponding to the drawn image."
      ]
    },
    {
      "cell_type": "markdown",
      "id": "485c3b21",
      "metadata": {
        "id": "485c3b21"
      },
      "source": [
        "### Simplifying calculations using linear algebra ✍️"
      ]
    },
    {
      "cell_type": "markdown",
      "id": "ba5da8c9",
      "metadata": {
        "id": "ba5da8c9"
      },
      "source": [
        "Instead of doing the calculations for every node indvidually we will multiply each layer at once using matricies!\n",
        "A matrix is a 2 dimensional array. ***NOTE:*** when we multiply a matrix of n x m dimension with a matrix of m x d dimensions we get a n x d matrix!\n",
        "\n",
        "In numpy to multiply matrix a by matrix b we perform `np.dot(a,b)`"
      ]
    },
    {
      "cell_type": "code",
      "execution_count": null,
      "id": "a4ab756b",
      "metadata": {
        "id": "a4ab756b"
      },
      "outputs": [],
      "source": [
        "# Multiply the following two matricies\n",
        "# If done correctly output should be\n",
        "'''\n",
        "[[27.68594631],\n",
        "  [25.33169791],\n",
        "  [22.93721208],\n",
        "  [26.68534864],\n",
        "  [25.12106649]]\n",
        "'''\n",
        "np.random.seed(63)\n",
        "a = np.random.rand(5, 100)\n",
        "b = np.random.rand(100, 1)\n",
        "### TODO ###\n",
        "\n",
        "multiplied = ### FILL IN ###\n",
        "multiplied"
      ]
    },
    {
      "cell_type": "markdown",
      "id": "bb71528f",
      "metadata": {
        "id": "bb71528f"
      },
      "source": [
        "### Network Architecture\n",
        "\n",
        "Now that we have the basics covered lets attempt to make a neural network to predict the numbers! Here's the specifications of the network we are creating:\n",
        "\n",
        "- Takes in an image of a number which is in the form of an array of size 1 x 784\n",
        "- Has one hidden layer with 100 nodes (This means our input will be multiplied by an array which will let its output be a 1 x 100 vector)\n",
        "- Finally from the hidden layer we wil make our predictions which will be represneted by 10 nodes (One for each number) or in other words a 1 x 10 matrix\n",
        "\n",
        "\n",
        "Instantiate the weights of the correct sizes and then implement the following function which takes in a data point and weights and returns our predictions array\n",
        "\n",
        "***NOTE:*** np.zeros is a function which takes in two values, `n` and `m`, and returns a matrix which is size n x m"
      ]
    },
    {
      "cell_type": "code",
      "execution_count": null,
      "id": "b9a1d186",
      "metadata": {
        "id": "b9a1d186"
      },
      "outputs": [],
      "source": [
        "#image of network architecture\n",
        "#If this cell causes an error feel free to move on or ask to see the diagram\n",
        "\n",
        "Image(filename='network_architecture.jpg')"
      ]
    },
    {
      "cell_type": "code",
      "execution_count": null,
      "id": "8d5074a9",
      "metadata": {
        "id": "8d5074a9"
      },
      "outputs": [],
      "source": [
        "# In the first set of weights we are taking the input of size 1 x 784 and converting it to a 1 x 100 vector\n",
        "#fill in the values n and m to make a weight_matrix of size n x m such that the input * weight_matrix = 1 x 100\n",
        "n = ## FILL IN ###\n",
        "m = ### FILL IN ###\n",
        "W_input_to_hidden = np.zeros((n , m))\n",
        "\n",
        "# In the second set of weights we are taking the hidden layer of size 1 x 100 and converting it to the output\n",
        "# which is a 1 x 10 matrix\n",
        "#fill in the values c and d to make a W of size c x d such that the hidden * W = 1 x 10\n",
        "\n",
        "c = ### FILL IN ###\n",
        "d = ### FILL IN ###\n",
        "W_hidden_to_output = np.zeros((c, d))"
      ]
    },
    {
      "cell_type": "markdown",
      "id": "b3cebc0f",
      "metadata": {
        "id": "b3cebc0f"
      },
      "source": [
        "### Putting it all together\n",
        "Now that we have the sizes of our weight vectors finalized we have all the pieces to put our network together!\n",
        "\n",
        "Implement the `run_neural_network` function which takes in the image AND weights and returns the prediction matrix using the neural network"
      ]
    },
    {
      "cell_type": "code",
      "execution_count": null,
      "id": "ce2b7372",
      "metadata": {
        "id": "ce2b7372"
      },
      "outputs": [],
      "source": [
        "def run_neural_network(weights, image_vector):\n",
        "    # input: weights - weights for 1 layer neural network, image_vector - 1D represnetation of 28 x 28 drawing of a number\n",
        "    # output: 1 x 10 vector representing the predictions of our neural network\n",
        "\n",
        "    W_input_to_hidden = weights[0]\n",
        "    W_hidden_to_output = weights[1]\n",
        "    ### First we will push our data from image_vector to the hidden layer using W_input_to_hidden\n",
        "    hidden_layer = ### Fill In ###\n",
        "\n",
        "    #next we will apply an activation function (We will not cover the purpose in this workshop but feel free to search up more about them)\n",
        "    hidden_layer = relu(hidden_layer)\n",
        "\n",
        "    ### The next step is to take out data from the hidden layer and push it to the output layer (aka our predictions)\n",
        "    output_layer = ### Fill In ###\n",
        "\n",
        "    ### Apply softmax to have our outputs be probabilities\n",
        "    output_layer = softmax(output_layer)\n",
        "\n",
        "    return output_layer\n",
        "weights = [W_input_to_hidden, W_hidden_to_output]\n",
        "run_neural_network(weights, np.array(train_df.iloc[0][:-1]))"
      ]
    },
    {
      "cell_type": "markdown",
      "id": "06c63673",
      "metadata": {
        "id": "06c63673"
      },
      "source": [
        "If everything is implemented correctly we should see an output of [0.1, 0.1, 0.1, 0.1, 0.1, 0.1, 0.1, 0.1, 0.1, 0.1], this is because we have not found the optimal ws for our network, run the following cell to find them (The function uses a technique called gradient descent!)\n",
        "\n",
        "***NOTE:*** This cell may take 2-5 minutes to run :("
      ]
    },
    {
      "cell_type": "code",
      "execution_count": null,
      "id": "88ccc740",
      "metadata": {
        "id": "88ccc740"
      },
      "outputs": [],
      "source": [
        "weights = find_optimal_weights(hidden_layer_size=100)\n",
        "weights"
      ]
    },
    {
      "cell_type": "markdown",
      "id": "377a0f9f",
      "metadata": {
        "id": "377a0f9f"
      },
      "source": [
        "Now lets try putting an image through the neural network"
      ]
    },
    {
      "cell_type": "code",
      "execution_count": null,
      "id": "75520492",
      "metadata": {
        "id": "75520492"
      },
      "outputs": [],
      "source": [
        "#We will try classifying this image\n",
        "#Lets look at what our data looks like\n",
        "plt.imshow(train_X[0], cmap=plt.get_cmap('gray'))\n",
        "plt.show()\n",
        "np.array(train_df.iloc[0][-1])"
      ]
    },
    {
      "cell_type": "code",
      "execution_count": null,
      "id": "88b9a3c3",
      "metadata": {
        "id": "88b9a3c3"
      },
      "outputs": [],
      "source": [
        "run_neural_network(weights, np.array(train_df.iloc[0][:-1]))"
      ]
    },
    {
      "cell_type": "markdown",
      "id": "aec0b19f",
      "metadata": {
        "id": "aec0b19f"
      },
      "source": [
        "### Testing our accuracy\n",
        "\n",
        "Now that we have created our neural network lets see how well it performs\n",
        "\n",
        "Feel free to go back and change the hidden_size in `find_optimal_weights` to improve the accuracy of your model"
      ]
    },
    {
      "cell_type": "code",
      "execution_count": null,
      "id": "ab0d9668",
      "metadata": {
        "id": "ab0d9668"
      },
      "outputs": [],
      "source": [
        "def model_accuracy(weights):\n",
        "    correct = 0\n",
        "    for i in range(len(test_df)):\n",
        "        pred = np.argmax(run_neural_network(weights, np.array(train_df.iloc[i][:-1])))\n",
        "        if pred == train_df.iloc[i][-1]:\n",
        "            correct += 1\n",
        "    print(correct/len(test_df))\n",
        "model_accuracy(weights)"
      ]
    },
    {
      "cell_type": "markdown",
      "id": "3e53a072",
      "metadata": {
        "id": "3e53a072"
      },
      "source": [
        "***Run the cell below to draw your own numbers and click the predict number to have the model try to classify your number!***"
      ]
    },
    {
      "cell_type": "code",
      "execution_count": null,
      "id": "1a36fb18",
      "metadata": {
        "id": "1a36fb18"
      },
      "outputs": [],
      "source": [
        "# Enable interactive plots\n",
        "%matplotlib notebook\n",
        "\n",
        "\n",
        "fig, ax = plt.subplots(figsize=(5, 5))\n",
        "ax.set_xlim(0, 27)\n",
        "ax.set_ylim(0, 27)\n",
        "ax.set_aspect('equal')\n",
        "plt.xticks([])\n",
        "plt.yticks([])\n",
        "plt.grid(True)\n",
        "\n",
        "\n",
        "out = Output()\n",
        "\n",
        "x_prev, y_prev = None, None\n",
        "drawn_rectangles = []\n",
        "\n",
        "\n",
        "brush_size = 2 # Feel free to change this\n",
        "\n",
        "# Define a function to handle mouse movement\n",
        "def on_mouse_move(event):\n",
        "    global x_prev, y_prev\n",
        "    if event.button == 1:  # Check if left mouse button is pressed\n",
        "        x, y = int(event.xdata), int(event.ydata)\n",
        "        if x_prev is not None and y_prev is not None:\n",
        "            rect = Rectangle((x - brush_size / 2, y - brush_size / 2), brush_size, brush_size,\n",
        "                             linewidth=1, edgecolor='black', facecolor='black')\n",
        "            ax.add_patch(rect)\n",
        "            drawn_rectangles.append(rect)\n",
        "            plt.draw()\n",
        "        x_prev, y_prev = x, y\n",
        "    else:\n",
        "        x_prev, y_prev = None, None\n",
        "\n",
        "fig.canvas.mpl_connect('motion_notify_event', on_mouse_move)\n",
        "\n",
        "def classify_canv(img):\n",
        "    return np.argmax(run_neural_network(weights, img.flatten()))\n",
        "    if np.dot(w_opt,img.flatten()) > 0:\n",
        "        return num1\n",
        "    else:\n",
        "        return num2\n",
        "\n",
        "def reset_canvas(button):\n",
        "    global drawn_rectangles, canvas_array\n",
        "    # Clear drawn rectangles\n",
        "    for rect in drawn_rectangles:\n",
        "        rect.remove()\n",
        "    drawn_rectangles = []\n",
        "    canvas_array = np.zeros((28, 28))\n",
        "    plt.draw()\n",
        "\n",
        "button_reset = Button(description=\"Reset Canvas\")\n",
        "button_reset.on_click(reset_canvas)\n",
        "\n",
        "\n",
        "\n",
        "def predict_on_click(button):\n",
        "    with out:\n",
        "        out.clear_output()\n",
        "        # Render the canvas to a numpy array\n",
        "        canvas_array = np.frombuffer(fig.canvas.tostring_rgb(), dtype=np.uint8)\n",
        "        canvas_array = canvas_array.reshape(fig.canvas.get_width_height()[::-1] + (3,))\n",
        "        # Resize the canvas array to 28x28 shape\n",
        "        resized_canvas_array = resize(canvas_array, (28, 28), anti_aliasing=True)\n",
        "        # Convert the resized canvas array to grayscale\n",
        "        grayscale_canvas_array = rgb2gray(resized_canvas_array)\n",
        "        inverted_canvas_array = 1 - grayscale_canvas_array\n",
        "        inverted_canvas_array = (inverted_canvas_array * 255).astype(np.uint8)\n",
        "        print('Prediction: ' + str(classify_canv(inverted_canvas_array)))\n",
        "\n",
        "button_predict = Button(description=\"Predict\")\n",
        "button_predict.on_click(predict_on_click)\n",
        "\n",
        "\n",
        "display(fig.canvas, button_reset,button_predict, out)\n"
      ]
    }
  ],
  "metadata": {
    "kernelspec": {
      "display_name": "Python 3 (ipykernel)",
      "language": "python",
      "name": "python3"
    },
    "language_info": {
      "codemirror_mode": {
        "name": "ipython",
        "version": 3
      },
      "file_extension": ".py",
      "mimetype": "text/x-python",
      "name": "python",
      "nbconvert_exporter": "python",
      "pygments_lexer": "ipython3",
      "version": "3.12.5"
    },
    "colab": {
      "provenance": [],
      "include_colab_link": true
    }
  },
  "nbformat": 4,
  "nbformat_minor": 5
}